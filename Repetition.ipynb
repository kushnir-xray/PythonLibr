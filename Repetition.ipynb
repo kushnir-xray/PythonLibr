{
 "cells": [
  {
   "cell_type": "code",
   "execution_count": 1,
   "id": "89bb64ce",
   "metadata": {},
   "outputs": [],
   "source": [
    "import numpy as np\n",
    "import pandas as pd\n",
    "import matplotlib.pyplot as plt"
   ]
  },
  {
   "cell_type": "code",
   "execution_count": 2,
   "id": "5fb9a9ff",
   "metadata": {},
   "outputs": [
    {
     "data": {
      "text/plain": [
       "array([12, 13, 14, 15, 16, 17, 18, 19, 20, 21, 22, 23])"
      ]
     },
     "execution_count": 2,
     "metadata": {},
     "output_type": "execute_result"
    }
   ],
   "source": [
    "#Создать одномерный массив Numpy под названием a из 12 последовательных целых чисел.\n",
    "a=np.arange(12, 24)\n",
    "a"
   ]
  },
  {
   "cell_type": "code",
   "execution_count": 3,
   "id": "98a6a19f",
   "metadata": {},
   "outputs": [
    {
     "name": "stdout",
     "output_type": "stream",
     "text": [
      "[[12 13 14 15 16 17]\n",
      " [18 19 20 21 22 23]]\n",
      "[[12 13 14 15]\n",
      " [16 17 18 19]\n",
      " [20 21 22 23]]\n",
      "[[12 13]\n",
      " [14 15]\n",
      " [16 17]\n",
      " [18 19]\n",
      " [20 21]\n",
      " [22 23]]\n",
      "[[12 13 14]\n",
      " [15 16 17]\n",
      " [18 19 20]\n",
      " [21 22 23]]\n",
      "[[12]\n",
      " [13]\n",
      " [14]\n",
      " [15]\n",
      " [16]\n",
      " [17]\n",
      " [18]\n",
      " [19]\n",
      " [20]\n",
      " [21]\n",
      " [22]\n",
      " [23]]\n"
     ]
    }
   ],
   "source": [
    "# Создать 5 двумерных массивов разной формы из массива a.\n",
    "# Не использовать в аргументах метода reshape число -1.\n",
    "a1=a.reshape(2, 6)\n",
    "a2=a.reshape(3, 4)\n",
    "a3=a.reshape(6, 2)\n",
    "a4=a.reshape(4, 3)\n",
    "a5=a.reshape(12, 1)\n",
    "print(a1)\n",
    "print(a2)\n",
    "print(a3)\n",
    "print(a4)\n",
    "print(a5)"
   ]
  },
  {
   "cell_type": "code",
   "execution_count": 4,
   "id": "9ca7d19c",
   "metadata": {},
   "outputs": [
    {
     "name": "stdout",
     "output_type": "stream",
     "text": [
      "[[12 13 14 15 16 17]\n",
      " [18 19 20 21 22 23]]\n",
      "[[12 13 14 15]\n",
      " [16 17 18 19]\n",
      " [20 21 22 23]]\n",
      "[[12 13]\n",
      " [14 15]\n",
      " [16 17]\n",
      " [18 19]\n",
      " [20 21]\n",
      " [22 23]]\n",
      "[[12 13 14]\n",
      " [15 16 17]\n",
      " [18 19 20]\n",
      " [21 22 23]]\n",
      "[[12]\n",
      " [13]\n",
      " [14]\n",
      " [15]\n",
      " [16]\n",
      " [17]\n",
      " [18]\n",
      " [19]\n",
      " [20]\n",
      " [21]\n",
      " [22]\n",
      " [23]]\n"
     ]
    }
   ],
   "source": [
    "# Создать 5 двумерных массивов разной формы из массива a.\n",
    "# Использовать в аргументах метода reshape число -1\n",
    "a1=a.reshape(2, -1)\n",
    "a2=a.reshape(3, -1)\n",
    "a3=a.reshape(-1, 2)\n",
    "a4=a.reshape(-1, 3)\n",
    "a5=a.reshape(12, -1)\n",
    "print(a1)\n",
    "print(a2)\n",
    "print(a3)\n",
    "print(a4)\n",
    "print(a5)\n"
   ]
  },
  {
   "cell_type": "code",
   "execution_count": 5,
   "id": "0f38857a",
   "metadata": {},
   "outputs": [],
   "source": [
    "# Можно ли массив Numpy, состоящий из одного столбца и 12 строк, назвать одномерным?\n",
    "# в отличии от одномерного, указанный массив имеет номер строки \n",
    "#и номер столбца, выводится как двумерный массив с дополнительными []."
   ]
  },
  {
   "cell_type": "code",
   "execution_count": 6,
   "id": "9013e58c",
   "metadata": {},
   "outputs": [
    {
     "data": {
      "text/plain": [
       "array([[-0.03301739,  0.22717445, -1.32290115, -1.11404358],\n",
       "       [-0.18896316, -0.49226926, -0.76185141,  1.23591989],\n",
       "       [ 0.71668848,  0.18340538,  1.8629512 , -0.79192649]])"
      ]
     },
     "execution_count": 6,
     "metadata": {},
     "output_type": "execute_result"
    }
   ],
   "source": [
    "# Создать массив из 3 строк и 4 столбцов, состоящий из случайных чисел с плавающей запятой\n",
    "b=np.random.randn(3,4)\n",
    "b"
   ]
  },
  {
   "cell_type": "code",
   "execution_count": 7,
   "id": "7dd824b3",
   "metadata": {},
   "outputs": [
    {
     "name": "stdout",
     "output_type": "stream",
     "text": [
      "12\n",
      "12\n"
     ]
    },
    {
     "data": {
      "text/plain": [
       "array([-0.03301739,  0.22717445, -1.32290115, -1.11404358, -0.18896316,\n",
       "       -0.49226926, -0.76185141,  1.23591989,  0.71668848,  0.18340538,\n",
       "        1.8629512 , -0.79192649])"
      ]
     },
     "execution_count": 7,
     "metadata": {},
     "output_type": "execute_result"
    }
   ],
   "source": [
    "# Получить из этого массива одномерный массив с таким же атрибутом size, как и исходный.\n",
    "print(b.size)\n",
    "b=b.flatten()\n",
    "print(b.size)\n",
    "b"
   ]
  },
  {
   "cell_type": "code",
   "execution_count": 8,
   "id": "7ff93382",
   "metadata": {},
   "outputs": [
    {
     "data": {
      "text/plain": [
       "array([20, 18, 16, 14, 12, 10,  8,  6,  4,  2])"
      ]
     },
     "execution_count": 8,
     "metadata": {},
     "output_type": "execute_result"
    }
   ],
   "source": [
    "# Создать массив a, состоящий из целых чисел, убывающих от 20 до 0 невключительно.\n",
    "a=np.arange(20, 0, -2)\n",
    "a"
   ]
  },
  {
   "cell_type": "code",
   "execution_count": 9,
   "id": "60c31528",
   "metadata": {},
   "outputs": [
    {
     "data": {
      "text/plain": [
       "array([[20, 18, 16, 14, 12, 10,  8,  6,  4,  2]])"
      ]
     },
     "execution_count": 9,
     "metadata": {},
     "output_type": "execute_result"
    }
   ],
   "source": [
    "# Создать массив b, состоящий из 1 строки и 10 столбцов: целых чисел, убывающих от 20 до 1.\n",
    "b=np.arange(20, 1, -2).reshape(1,10)\n",
    "b"
   ]
  },
  {
   "cell_type": "code",
   "execution_count": 10,
   "id": "43784821",
   "metadata": {},
   "outputs": [],
   "source": [
    "# В чем разница между массивами a и b?\n",
    "# Массив a - одномерный, а  массив b - двумерный"
   ]
  },
  {
   "cell_type": "code",
   "execution_count": 17,
   "id": "becb08f4",
   "metadata": {},
   "outputs": [
    {
     "name": "stdout",
     "output_type": "stream",
     "text": [
      "[[0. 0.]\n",
      " [0. 0.]]\n",
      "[[1. 1.]\n",
      " [1. 1.]\n",
      " [1. 1.]]\n",
      "[[0. 0.]\n",
      " [0. 0.]\n",
      " [1. 1.]\n",
      " [1. 1.]\n",
      " [1. 1.]]\n",
      "(2, 2) (3, 2) (5, 2)\n"
     ]
    },
    {
     "data": {
      "text/plain": [
       "10"
      ]
     },
     "execution_count": 17,
     "metadata": {},
     "output_type": "execute_result"
    }
   ],
   "source": [
    "# Вертикально соединить массивы a и b.\n",
    "a = np.zeros((2, 2))\n",
    "print(a)\n",
    "b = np.zeros((3, 2))+1\n",
    "print(b)\n",
    "v = np.vstack((a, b))\n",
    "print(v)\n",
    "print(a.shape, b.shape, v.shape)\n",
    "v.size"
   ]
  },
  {
   "cell_type": "code",
   "execution_count": 18,
   "id": "21e7ef77",
   "metadata": {},
   "outputs": [
    {
     "name": "stdout",
     "output_type": "stream",
     "text": [
      "[ 0  1  2  3  4  5  6  7  8  9 10 11]\n",
      "[[ 0  1  2]\n",
      " [ 3  4  5]\n",
      " [ 6  7  8]\n",
      " [ 9 10 11]]\n",
      "[[ 0  3  6  9]\n",
      " [ 1  4  7 10]\n",
      " [ 2  5  8 11]]\n",
      "[[  5  14  23  32]\n",
      " [ 14  50  86 122]\n",
      " [ 23  86 149 212]\n",
      " [ 32 122 212 302]]\n"
     ]
    },
    {
     "data": {
      "text/plain": [
       "(4, 4)"
      ]
     },
     "execution_count": 18,
     "metadata": {},
     "output_type": "execute_result"
    }
   ],
   "source": [
    "# Создать одномерный массив а, состоящий из последовательности целых чисел от 0 до 12. \n",
    "a=np.arange(0, 12)\n",
    "print(a)\n",
    "# Поменять форму этого массива, чтобы получилась матрица A (двумерный массив Numpy).\n",
    "A=a.reshape(4,3)\n",
    "print(A)\n",
    "# Получить матрицу At путем транспонирования матрицы A. \n",
    "At=A.T\n",
    "print(At)\n",
    "# Получить матрицу B, умножив матрицу A на матрицу At с помощью матричного умножения. \n",
    "B = np.dot(A, At)\n",
    "print(B)\n",
    "B.shape"
   ]
  },
  {
   "cell_type": "code",
   "execution_count": 19,
   "id": "2516e444",
   "metadata": {},
   "outputs": [],
   "source": [
    "# Инициализируйте генератор случайных числе с помощью объекта seed, равного 42. \n",
    "np.random.seed(42)"
   ]
  },
  {
   "cell_type": "code",
   "execution_count": 23,
   "id": "46c2f120",
   "metadata": {
    "scrolled": true
   },
   "outputs": [
    {
     "name": "stdout",
     "output_type": "stream",
     "text": [
      "[ 3  7  7  2  5  4  1  7 11 13  5  1 15 11  4  0]\n",
      "[[ 3  7  7  2]\n",
      " [ 5  4  1  7]\n",
      " [11 13  5  1]\n",
      " [15 11  4  0]]\n",
      "[[ 35  84  93  52]\n",
      " [ 64  90  96 192]\n",
      " [133 216 199 222]\n",
      " [182 232 252 302]]\n",
      "Определитель -  -23404999.999999978\n",
      "Ранг -  4\n"
     ]
    },
    {
     "data": {
      "text/plain": [
       "array([[-0.02745824, -0.02127921, -0.00030506,  0.01848067],\n",
       "       [-0.00983038, -0.00115445,  0.03006537, -0.01967443],\n",
       "       [ 0.03091391,  0.00259603, -0.0266755 ,  0.01263576],\n",
       "       [-0.00169622,  0.01154454, -0.00065371, -0.00325571]])"
      ]
     },
     "execution_count": 23,
     "metadata": {},
     "output_type": "execute_result"
    }
   ],
   "source": [
    "# Создайте одномерный массив c, составленный из последовательности 16-ти случайных чисел.\n",
    "c=np.random.randint(0, 16,16)\n",
    "print(c)\n",
    "# Поменяйте его форму так, чтобы получилась квадратная матрица C.\n",
    "C=c.reshape(4,4)\n",
    "print(C)\n",
    "# Получите матрицу D, поэлементно прибавив матрицу B из предыдущего вопроса к матрице C.\n",
    "D=B+C*10\n",
    "print(D)\n",
    "d=np.linalg.det(D)\n",
    "print('Определитель - ', d)\n",
    "r=np.linalg.matrix_rank(D)\n",
    "print('Ранг - ', r)\n",
    "# Вычислите обратную матрицу D_inv для D.\n",
    "D_inv=np.linalg.inv(D)\n",
    "D_inv"
   ]
  },
  {
   "cell_type": "code",
   "execution_count": 21,
   "id": "055fa30f",
   "metadata": {},
   "outputs": [
    {
     "name": "stdout",
     "output_type": "stream",
     "text": [
      "[[1 1 1 0]\n",
      " [0 0 0 1]\n",
      " [0 0 0 1]\n",
      " [1 0 1 0]]\n",
      "[[  5  14  23  32]\n",
      " [ 14  50  86 122]\n",
      " [ 23  86 149 212]\n",
      " [ 32 122 212 302]]\n",
      "[[ 6  3 12 14]\n",
      " [10  7 12  4]\n",
      " [ 6  9  2  6]\n",
      " [10 10  7  4]]\n"
     ]
    },
    {
     "data": {
      "text/plain": [
       "array([[  5,  14,  23,  14],\n",
       "       [ 10,   7,  12, 122],\n",
       "       [  6,   9,   2, 212],\n",
       "       [ 32,  10, 212,   4]])"
      ]
     },
     "execution_count": 21,
     "metadata": {},
     "output_type": "execute_result"
    }
   ],
   "source": [
    "# Приравняйте к нулю отрицательные числа в матрице D_inv, а положительные — к единице. \n",
    "D_inv=np.where(D_inv<0, 0,1)\n",
    "print(D_inv)\n",
    "print(B)\n",
    "print(C)\n",
    "# Получите матрицу E размером 4x4, используя матрицу D_inv в качестве маски, а матрицы B и C - в качестве источников данных.\n",
    "E=np.where(D_inv==1, B, C)\n",
    "E"
   ]
  }
 ],
 "metadata": {
  "kernelspec": {
   "display_name": "Python 3 (ipykernel)",
   "language": "python",
   "name": "python3"
  },
  "language_info": {
   "codemirror_mode": {
    "name": "ipython",
    "version": 3
   },
   "file_extension": ".py",
   "mimetype": "text/x-python",
   "name": "python",
   "nbconvert_exporter": "python",
   "pygments_lexer": "ipython3",
   "version": "3.9.7"
  }
 },
 "nbformat": 4,
 "nbformat_minor": 5
}
